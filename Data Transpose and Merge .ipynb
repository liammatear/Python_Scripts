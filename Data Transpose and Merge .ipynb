{
 "cells": [
  {
   "cell_type": "markdown",
   "metadata": {},
   "source": [
    "# Title: Power Analyses: Data Formatting\n",
    "\n",
    "**Authors:** Matear, L. (2018)\n",
    "**Contact Email:** Liam.Matear@jncc.gov.uk\n",
    "**Version Control:** 0.1 \n",
    "\n",
    "**Description:** This script allows the user to perform basic data manipulations to correctly format Offshore Survey Data to be                  used within Power Analyses. The process inputs either species abundance or richness data, and merges this data                  with relevant habitat data, grouped by EUNIS Code. The abundance and richness data are calculated manually by                    the user prior to this stage. Subsequently, the data are transposed and merged with the relevant habitat data                    on matching Survey Station Codes. \n",
    "\n",
    "\n",
    "## Contents: \n",
    "\n",
    "1. Section One: Loading Data\n",
    "2. Section Two: Transposing & Merging Data \n",
    "3. Section Three: Exporting Data  \n",
    " "
   ]
  },
  {
   "cell_type": "markdown",
   "metadata": {},
   "source": [
    "# Section One: Loading Data"
   ]
  },
  {
   "cell_type": "code",
   "execution_count": 2,
   "metadata": {},
   "outputs": [
    {
     "ename": "OSError",
     "evalue": "[WinError 123] The filename, directory name, or volume label syntax is incorrect: ''",
     "output_type": "error",
     "traceback": [
      "\u001b[1;31m---------------------------------------------------------------------------\u001b[0m",
      "\u001b[1;31mOSError\u001b[0m                                   Traceback (most recent call last)",
      "\u001b[1;32m<ipython-input-2-4a0480eb1b8f>\u001b[0m in \u001b[0;36m<module>\u001b[1;34m()\u001b[0m\n\u001b[0;32m      4\u001b[0m \u001b[1;33m\u001b[0m\u001b[0m\n\u001b[0;32m      5\u001b[0m \u001b[1;31m# Input the correct filepath to your working directory here\u001b[0m\u001b[1;33m\u001b[0m\u001b[1;33m\u001b[0m\u001b[0m\n\u001b[1;32m----> 6\u001b[1;33m \u001b[0mos\u001b[0m\u001b[1;33m.\u001b[0m\u001b[0mchdir\u001b[0m\u001b[1;33m(\u001b[0m\u001b[1;34m''\u001b[0m\u001b[1;33m)\u001b[0m\u001b[1;33m\u001b[0m\u001b[0m\n\u001b[0m",
      "\u001b[1;31mOSError\u001b[0m: [WinError 123] The filename, directory name, or volume label syntax is incorrect: ''"
     ]
    }
   ],
   "source": [
    "import os\n",
    "import xlrd\n",
    "import pandas as pd\n",
    "\n",
    "# Input the correct filepath to your working directory within quotation marks / string reference \n",
    "os.chdir('')\n",
    "\n",
    "# Read xlsx format abundance data in Python using pandas method .read_excel() and assign to object oriented variable - abundance_df\n",
    "\n",
    "abundance_df = pd.read_excel('Copy of Farnes_East_combined abundance data_CM.xls')\n",
    "\n",
    "# Read xlsx format sediment data in Python using pandas method .read_excel() and assign to object oriented variable - sediment_df\n",
    "\n",
    "sediment_df = pd.read_excel('Copy of Farnes_East_sediments_CM.xls')\n",
    "\n",
    "# Rename sediment station code column to match abundance data column to provide shared column to be merged on \n",
    "# Only rename columns if this is needed, if the columns are already titled the same, then this is not needed. \n",
    "\n",
    "sediment_df.rename(columns={'Station code': 'Station_Code'}, inplace=True)\n",
    "\n",
    "# Remove unwanted columns - remove station number column from sediment DataFrame(df) \n",
    "# Keyword inplace=True should only be used if not assigning to a new variable, otherwise this will modify the original variable\n",
    "\n",
    "sediment_df.drop(['Station number'], axis=1, inplace=True)"
   ]
  },
  {
   "cell_type": "markdown",
   "metadata": {},
   "source": [
    "# Section Two: Transposing & Merging Data"
   ]
  },
  {
   "cell_type": "code",
   "execution_count": 3,
   "metadata": {},
   "outputs": [
    {
     "ename": "NameError",
     "evalue": "name 'abundance_df' is not defined",
     "output_type": "error",
     "traceback": [
      "\u001b[1;31m---------------------------------------------------------------------------\u001b[0m",
      "\u001b[1;31mNameError\u001b[0m                                 Traceback (most recent call last)",
      "\u001b[1;32m<ipython-input-3-aa39f1b6be48>\u001b[0m in \u001b[0;36m<module>\u001b[1;34m()\u001b[0m\n\u001b[0;32m      1\u001b[0m \u001b[1;31m# Transpose abundance data columns to switch with rows\u001b[0m\u001b[1;33m\u001b[0m\u001b[1;33m\u001b[0m\u001b[0m\n\u001b[0;32m      2\u001b[0m \u001b[1;33m\u001b[0m\u001b[0m\n\u001b[1;32m----> 3\u001b[1;33m \u001b[0mabundanceT_df\u001b[0m \u001b[1;33m=\u001b[0m \u001b[0mabundance_df\u001b[0m\u001b[1;33m.\u001b[0m\u001b[0mT\u001b[0m\u001b[1;33m\u001b[0m\u001b[0m\n\u001b[0m\u001b[0;32m      4\u001b[0m \u001b[1;33m\u001b[0m\u001b[0m\n\u001b[0;32m      5\u001b[0m \u001b[1;31m# Join transposed abundance and sediment DataFrames on 'Station_Code' as key\u001b[0m\u001b[1;33m\u001b[0m\u001b[1;33m\u001b[0m\u001b[0m\n",
      "\u001b[1;31mNameError\u001b[0m: name 'abundance_df' is not defined"
     ]
    }
   ],
   "source": [
    "# Transpose abundance data columns to switch with rows\n",
    "\n",
    "abundanceT_df = abundance_df.T\n",
    "\n",
    "# Join transposed abundance and sediment DataFrames on 'Station_Code' as key\n",
    "\n",
    "merge_output = pd.merge(abundanceT_df, sediment_df, on='Station_Code')"
   ]
  },
  {
   "cell_type": "markdown",
   "metadata": {},
   "source": [
    "# Section Three: Exporting Data\n"
   ]
  },
  {
   "cell_type": "code",
   "execution_count": 4,
   "metadata": {},
   "outputs": [
    {
     "ename": "NameError",
     "evalue": "name 'merge_output' is not defined",
     "output_type": "error",
     "traceback": [
      "\u001b[1;31m---------------------------------------------------------------------------\u001b[0m",
      "\u001b[1;31mNameError\u001b[0m                                 Traceback (most recent call last)",
      "\u001b[1;32m<ipython-input-4-abbfffe8d4e8>\u001b[0m in \u001b[0;36m<module>\u001b[1;34m()\u001b[0m\n\u001b[0;32m      3\u001b[0m \u001b[1;31m# This must be tailored to the EUNIS Codes you are trying to assess within the Power Analyses\u001b[0m\u001b[1;33m\u001b[0m\u001b[1;33m\u001b[0m\u001b[0m\n\u001b[0;32m      4\u001b[0m \u001b[1;33m\u001b[0m\u001b[0m\n\u001b[1;32m----> 5\u001b[1;33m \u001b[0ma5_1\u001b[0m \u001b[1;33m=\u001b[0m \u001b[0mmerge_output\u001b[0m\u001b[1;33m.\u001b[0m\u001b[0mloc\u001b[0m\u001b[1;33m[\u001b[0m\u001b[0mmerge_output\u001b[0m\u001b[1;33m[\u001b[0m\u001b[1;34m'EUNIS Level 3/BSH'\u001b[0m\u001b[1;33m]\u001b[0m\u001b[1;33m.\u001b[0m\u001b[0misin\u001b[0m\u001b[1;33m(\u001b[0m\u001b[1;33m[\u001b[0m\u001b[1;34m'A5.1 - Subtidal Coarse Sediment'\u001b[0m\u001b[1;33m]\u001b[0m\u001b[1;33m)\u001b[0m\u001b[1;33m]\u001b[0m\u001b[1;33m\u001b[0m\u001b[0m\n\u001b[0m\u001b[0;32m      6\u001b[0m \u001b[0ma5_2\u001b[0m \u001b[1;33m=\u001b[0m \u001b[0mmerge_output\u001b[0m\u001b[1;33m.\u001b[0m\u001b[0mloc\u001b[0m\u001b[1;33m[\u001b[0m\u001b[0mmerge_output\u001b[0m\u001b[1;33m[\u001b[0m\u001b[1;34m'EUNIS Level 3/BSH'\u001b[0m\u001b[1;33m]\u001b[0m\u001b[1;33m.\u001b[0m\u001b[0misin\u001b[0m\u001b[1;33m(\u001b[0m\u001b[1;33m[\u001b[0m\u001b[1;34m'A5.2 - Subtidal Sand'\u001b[0m\u001b[1;33m]\u001b[0m\u001b[1;33m)\u001b[0m\u001b[1;33m]\u001b[0m\u001b[1;33m\u001b[0m\u001b[0m\n\u001b[0;32m      7\u001b[0m \u001b[0ma5_3\u001b[0m \u001b[1;33m=\u001b[0m \u001b[0mmerge_output\u001b[0m\u001b[1;33m.\u001b[0m\u001b[0mloc\u001b[0m\u001b[1;33m[\u001b[0m\u001b[0mmerge_output\u001b[0m\u001b[1;33m[\u001b[0m\u001b[1;34m'EUNIS Level 3/BSH'\u001b[0m\u001b[1;33m]\u001b[0m\u001b[1;33m.\u001b[0m\u001b[0misin\u001b[0m\u001b[1;33m(\u001b[0m\u001b[1;33m[\u001b[0m\u001b[1;34m'A5.3 - Subtidal Mud'\u001b[0m\u001b[1;33m]\u001b[0m\u001b[1;33m)\u001b[0m\u001b[1;33m]\u001b[0m\u001b[1;33m\u001b[0m\u001b[0m\n",
      "\u001b[1;31mNameError\u001b[0m: name 'merge_output' is not defined"
     ]
    }
   ],
   "source": [
    "# Create new DataFrames refined by specific EUNIS Codes\n",
    "# Use .loc() and .isin() methods to subset specific EUNIS Levels, based on the EUNIS Code value \n",
    "# This must be tailored to the EUNIS Codes you are trying to assess within the Power Analyses\n",
    "\n",
    "a5_1 = merge_output.loc[merge_output['EUNIS Level 3/BSH'].isin(['A5.1 - Subtidal Coarse Sediment'])]\n",
    "a5_2 = merge_output.loc[merge_output['EUNIS Level 3/BSH'].isin(['A5.2 - Subtidal Sand'])]\n",
    "a5_3 = merge_output.loc[merge_output['EUNIS Level 3/BSH'].isin(['A5.3 - Subtidal Mud'])]\n",
    "a5_4 = merge_output.loc[merge_output['EUNIS Level 3/BSH'].isin(['A5.4 - Subtidal Mixed Sediment'])]\n",
    "\n",
    "# Create CSV exports of all individual EUNIS Codes\n",
    "\n",
    "a5_1.to_csv('a5_1.csv', sep=',')\n",
    "a5_2.to_csv('a5_2.csv', sep=',')\n",
    "a5_3.to_csv('a5_3.csv', sep=',')\n",
    "a5_4.to_csv('a5_4.csv', sep=',')"
   ]
  },
  {
   "cell_type": "code",
   "execution_count": null,
   "metadata": {},
   "outputs": [],
   "source": []
  }
 ],
 "metadata": {
  "kernelspec": {
   "display_name": "Python 3",
   "language": "python",
   "name": "python3"
  },
  "language_info": {
   "codemirror_mode": {
    "name": "ipython",
    "version": 3
   },
   "file_extension": ".py",
   "mimetype": "text/x-python",
   "name": "python",
   "nbconvert_exporter": "python",
   "pygments_lexer": "ipython3",
   "version": "3.6.5"
  }
 },
 "nbformat": 4,
 "nbformat_minor": 2
}
